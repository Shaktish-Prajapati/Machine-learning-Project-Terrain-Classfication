{
 "cells": [
  {
   "cell_type": "code",
   "execution_count": 1,
   "metadata": {},
   "outputs": [
    {
     "name": "stderr",
     "output_type": "stream",
     "text": [
      "Using TensorFlow backend.\n"
     ]
    }
   ],
   "source": [
    "import numpy as np\n",
    "import pandas as pd\n",
    "import matplotlib.pyplot as plt\n",
    "from skimage.io import imshow\n",
    "from keras.layers import Dense, Conv2D, MaxPooling2D, Flatten, Dropout, Activation\n",
    "from keras.models import Sequential"
   ]
  },
  {
   "cell_type": "code",
   "execution_count": 2,
   "metadata": {},
   "outputs": [
    {
     "name": "stdout",
     "output_type": "stream",
     "text": [
      "Training Data\n",
      "Loading labels\n"
     ]
    }
   ],
   "source": [
    "print ('Training Data')\n",
    "X_train = pd.read_csv('X_test_sat4.csv') # training data\n",
    "print ('Loading labels')\n",
    "Y_train = pd.read_csv('y_test_sat4.csv') # y contain label data "
   ]
  },
  {
   "cell_type": "code",
   "execution_count": 3,
   "metadata": {},
   "outputs": [
    {
     "name": "stdout",
     "output_type": "stream",
     "text": [
      "We have 99999 examples and each example is a list of 3136 numbers with 4 possible classifications.\n"
     ]
    },
    {
     "name": "stderr",
     "output_type": "stream",
     "text": [
      "C:\\Users\\shakt\\AppData\\Local\\Continuum\\anaconda3\\lib\\site-packages\\ipykernel_launcher.py:1: FutureWarning: Method .as_matrix will be removed in a future version. Use .values instead.\n",
      "  \"\"\"Entry point for launching an IPython kernel.\n",
      "C:\\Users\\shakt\\AppData\\Local\\Continuum\\anaconda3\\lib\\site-packages\\ipykernel_launcher.py:2: FutureWarning: Method .as_matrix will be removed in a future version. Use .values instead.\n",
      "  \n"
     ]
    }
   ],
   "source": [
    "X_train = X_train.as_matrix()\n",
    "Y_train = Y_train.as_matrix()\n",
    "print ('We have',X_train.shape[0],'examples and each example is a list of',\n",
    "       X_train.shape[1],'numbers with',\n",
    "       Y_train.shape[1],'possible classifications.')"
   ]
  },
  {
   "cell_type": "code",
   "execution_count": 4,
   "metadata": {},
   "outputs": [
    {
     "name": "stdout",
     "output_type": "stream",
     "text": [
      "(99999, 28, 28, 4)\n"
     ]
    }
   ],
   "source": [
    "X_train_img = X_train.reshape([99999,28,28,4]).astype(float) # reshaping the data it has 4 classifiaction type in the dataset\n",
    "print (X_train_img.shape)"
   ]
  },
  {
   "cell_type": "code",
   "execution_count": 5,
   "metadata": {},
   "outputs": [
    {
     "name": "stderr",
     "output_type": "stream",
     "text": [
      "C:\\Users\\shakt\\AppData\\Local\\Continuum\\anaconda3\\lib\\site-packages\\skimage\\io\\_plugins\\matplotlib_plugin.py:75: UserWarning: Low image data range; displaying image with stretched contrast.\n",
      "  warn(\"Low image data range; displaying image with \"\n"
     ]
    },
    {
     "data": {
      "image/png": "[encoded data removed]",
      "text/plain": [
       "<Figure size 432x288 with 2 Axes>"
      ]
     },
     "metadata": {
      "needs_background": "light"
     },
     "output_type": "display_data"
    },
    {
     "name": "stdout",
     "output_type": "stream",
     "text": [
      "Trees\n"
     ]
    }
   ],
   "source": [
    " ix = 10  #training data and the input\n",
    "imshow(np.squeeze(X_train_img[ix,:,:,0:3]).astype('int32')) #Only seeing the RGB channels\n",
    "plt.show()\n",
    "#Tells what the image is\n",
    "if Y_train[ix,0] == 1:\n",
    "    print ('Barren Land')\n",
    "elif Y_train[ix,1] == 1:\n",
    "    print ('Trees')\n",
    "elif Y_train[ix,2] == 1:\n",
    "    print ('Grassland')\n",
    "else:\n",
    "    print ('Other')"
   ]
  },
  {
   "cell_type": "code",
   "execution_count": 6,
   "metadata": {},
   "outputs": [],
   "source": [
    "model = Sequential([\n",
    "    Dense(4, input_shape=(3136,), activation='softmax'),\n",
    "#     Dense(4, input_shape=(3136,), activation='sigmoid'),\n",
    "#     Dense(4, input_shape=(3136,), activation='relu')\n",
    "])"
   ]
  },
  {
   "cell_type": "code",
   "execution_count": 7,
   "metadata": {},
   "outputs": [],
   "source": [
    "X_train = X_train/255"
   ]
  },
  {
   "cell_type": "code",
   "execution_count": 8,
   "metadata": {},
   "outputs": [
    {
     "name": "stdout",
     "output_type": "stream",
     "text": [
      "Model: \"sequential_1\"\n",
      "_________________________________________________________________\n",
      "Layer (type)                 Output Shape              Param #   \n",
      "=================================================================\n",
      "dense_1 (Dense)              (None, 4)                 12548     \n",
      "=================================================================\n",
      "Total params: 12,548\n",
      "Trainable params: 12,548\n",
      "Non-trainable params: 0\n",
      "_________________________________________________________________\n",
      "Train on 98999 samples, validate on 1000 samples\n",
      "Epoch 1/5\n",
      "98999/98999 [==============================] - 20s 207us/step - loss: 0.7581 - accuracy: 0.6880 - val_loss: 0.7650 - val_accuracy: 0.6150\n",
      "Epoch 2/5\n",
      "98999/98999 [==============================] - 19s 193us/step - loss: 0.6707 - accuracy: 0.7203 - val_loss: 0.7091 - val_accuracy: 0.6780\n",
      "Epoch 3/5\n",
      "98999/98999 [==============================] - 19s 191us/step - loss: 0.6640 - accuracy: 0.7208 - val_loss: 0.5954 - val_accuracy: 0.7660\n",
      "Epoch 4/5\n",
      "98999/98999 [==============================] - 19s 193us/step - loss: 0.6528 - accuracy: 0.7271 - val_loss: 0.7567 - val_accuracy: 0.6770\n",
      "Epoch 5/5\n",
      "98999/98999 [==============================] - 19s 195us/step - loss: 0.6419 - accuracy: 0.7293 - val_loss: 0.6137 - val_accuracy: 0.7450\n"
     ]
    },
    {
     "data": {
      "text/plain": [
       "<keras.callbacks.callbacks.History at 0x16b30ee56c8>"
      ]
     },
     "execution_count": 8,
     "metadata": {},
     "output_type": "execute_result"
    }
   ],
   "source": [
    "# vanilla artificial neural network\n",
    "# multi classs classififcation => categorical_crossentropy\n",
    "model.compile(optimizer='adam', loss='categorical_crossentropy', metrics=['accuracy'])\n",
    "model.summary()\n",
    "model.fit(X_train,Y_train,batch_size=32, epochs=5, verbose=1, validation_split=0.01) # more epoch may give the more accuracy "
   ]
  },
  {
   "cell_type": "code",
   "execution_count": 9,
   "metadata": {},
   "outputs": [
    {
     "name": "stdout",
     "output_type": "stream",
     "text": [
      "1000/1000 [==============================] - 0s 90us/step\n"
     ]
    }
   ],
   "source": [
    "preds = model.predict(X_train[-1000:], verbose=1)"
   ]
  },
  {
   "cell_type": "code",
   "execution_count": 10,
   "metadata": {},
   "outputs": [
    {
     "name": "stderr",
     "output_type": "stream",
     "text": [
      "C:\\Users\\shakt\\AppData\\Local\\Continuum\\anaconda3\\lib\\site-packages\\skimage\\io\\_plugins\\matplotlib_plugin.py:75: UserWarning: Low image data range; displaying image with stretched contrast.\n",
      "  warn(\"Low image data range; displaying image with \"\n"
     ]
    },
    {
     "data": {
      "image/png": "[encoded data removed]",
      "text/plain": [
       "<Figure size 432x288 with 2 Axes>"
      ]
     },
     "metadata": {
      "needs_background": "light"
     },
     "output_type": "display_data"
    },
    {
     "name": "stdout",
     "output_type": "stream",
     "text": [
      "Prediction:\n",
      "0.34% Probability barren land,\n",
      "39.16% Probability trees,\n",
      "51.03% Probability grassland,\n",
      "9.48% Probability other\n",
      "\n",
      "Final Conclusion: Trees\n"
     ]
    }
   ],
   "source": [
    "ix = 10 #input number in range 0 99999 // 99999 last set of data in dataset\n",
    "imshow(np.squeeze(X_train_img[99999-(1000-ix),:,:,0:3]).astype('int32')) #Only seeing the RGB channels\n",
    "plt.show()\n",
    "#give the image is?\n",
    "print ('Prediction:\\n{:.2f}% Probability barren land,\\n{:.2f}% Probability trees,\\n{:.2f}% Probability grassland,\\n{:.2f}% Probability other\\n'.format(preds[ix,0]*100,preds[ix,1]*100,preds[ix,2]*100,preds[ix,3]*100))\n",
    "\n",
    "print ('Final Conclusion: ',end='')\n",
    "if Y_train[99999-(1000-ix),0] == 1:\n",
    "    print ('Barren Land')\n",
    "elif Y_train[99999-(1000-ix),1] == 1:\n",
    "    print ('Trees')\n",
    "elif Y_train[99999-(1000-ix),2] == 1:\n",
    "    print ('Grassland')\n",
    "else:\n",
    "    print ('Other')"
   ]
  },
  {
   "cell_type": "code",
   "execution_count": null,
   "metadata": {},
   "outputs": [],
   "source": []
  },
  {
   "cell_type": "code",
   "execution_count": null,
   "metadata": {},
   "outputs": [],
   "source": []
  }
 ],
 "metadata": {
  "kernelspec": {
   "display_name": "Python 3",
   "language": "python",
   "name": "python3"
  },
  "language_info": {
   "codemirror_mode": {
    "name": "ipython",
    "version": 3
   },
   "file_extension": ".py",
   "mimetype": "text/x-python",
   "name": "python",
   "nbconvert_exporter": "python",
   "pygments_lexer": "ipython3",
   "version": "3.7.4"
  }
 },
 "nbformat": 4,
 "nbformat_minor": 2
}
